{
 "cells": [
  {
   "cell_type": "code",
   "execution_count": 1,
   "metadata": {},
   "outputs": [],
   "source": [
    "# Dependcies\n",
    "import pandas as pd\n",
    "import glob\n"
   ]
  },
  {
   "cell_type": "code",
   "execution_count": 2,
   "metadata": {},
   "outputs": [],
   "source": [
    "pd.set_option('display.height', 1000)\n",
    "pd.set_option('display.max_rows', 500)\n",
    "pd.set_option('display.max_columns', 500)\n",
    "pd.set_option('display.width', 1000)"
   ]
  },
  {
   "cell_type": "code",
   "execution_count": 3,
   "metadata": {},
   "outputs": [],
   "source": [
    "headers_df = pd.read_csv('headers/headers.csv')"
   ]
  },
  {
   "cell_type": "code",
   "execution_count": 4,
   "metadata": {},
   "outputs": [],
   "source": [
    "colnames = list(headers_df)"
   ]
  },
  {
   "cell_type": "code",
   "execution_count": 5,
   "metadata": {},
   "outputs": [
    {
     "data": {
      "text/plain": [
       "['date',\n",
       " 'tTime',\n",
       " 'sequenceNbr',\n",
       " 'sessionInd',\n",
       " 'symbol',\n",
       " 'CPF',\n",
       " 'contractDelivery',\n",
       " 'volume',\n",
       " 'strikePrice',\n",
       " 'tPrice',\n",
       " 'AB',\n",
       " 'IND',\n",
       " 'MKQ',\n",
       " 'CO',\n",
       " 'VOE',\n",
       " 'PC',\n",
       " 'CAN',\n",
       " 'INS',\n",
       " 'FL',\n",
       " 'CAB',\n",
       " 'BKI',\n",
       " 'entryDate',\n",
       " 'exchCode']"
      ]
     },
     "execution_count": 5,
     "metadata": {},
     "output_type": "execute_result"
    }
   ],
   "source": [
    "colnames"
   ]
  },
  {
   "cell_type": "code",
   "execution_count": null,
   "metadata": {},
   "outputs": [],
   "source": [
    "# day1 = pd.read_csv('20180502-TICK_xnym_ng_fut_0-eth.csv', names=colnames, header=None)"
   ]
  },
  {
   "cell_type": "code",
   "execution_count": null,
   "metadata": {},
   "outputs": [],
   "source": [
    "# day1.dtypes"
   ]
  },
  {
   "cell_type": "code",
   "execution_count": null,
   "metadata": {},
   "outputs": [],
   "source": [
    "# day1.infer_objects()"
   ]
  },
  {
   "cell_type": "code",
   "execution_count": null,
   "metadata": {},
   "outputs": [],
   "source": [
    "# day1.columns[6]"
   ]
  },
  {
   "cell_type": "code",
   "execution_count": null,
   "metadata": {},
   "outputs": [],
   "source": [
    "# day1.drop(day1.columns[5], axis=1, inplace=True)\n",
    "# day1.shape"
   ]
  },
  {
   "cell_type": "code",
   "execution_count": 6,
   "metadata": {},
   "outputs": [
    {
     "name": "stdout",
     "output_type": "stream",
     "text": [
      "20180516-TICK_xnym_ng_fut_0-eth.csv\n",
      "20180523-TICK_xnym_ng_fut_0-eth.csv\n",
      "20180507-TICK_xnym_ng_fut_0-eth.csv\n",
      "20180524-TICK_xnym_ng_fut_0-eth.csv\n",
      "20180528-TICK_xnym_ng_fut_0-eth.csv\n",
      "20180511-TICK_xnym_ng_fut_0-eth.csv\n",
      "20180510-TICK_xnym_ng_fut_0-eth.csv\n",
      "20180525-TICK_xnym_ng_fut_0-eth.csv\n",
      "20180529-TICK_xnym_ng_fut_0-eth.csv\n"
     ]
    },
    {
     "name": "stderr",
     "output_type": "stream",
     "text": [
      "/Users/scott/anaconda3/lib/python3.6/site-packages/IPython/core/interactiveshell.py:2728: DtypeWarning: Columns (13) have mixed types. Specify dtype option on import or set low_memory=False.\n",
      "  interactivity=interactivity, compiler=compiler, result=result)\n"
     ]
    },
    {
     "name": "stdout",
     "output_type": "stream",
     "text": [
      "20180522-TICK_xnym_ng_fut_0-eth.csv\n",
      "20180517-TICK_xnym_ng_fut_0-eth.csv\n",
      "20180501-TICK_xnym_ng_fut_0-eth.csv\n",
      "20180508-TICK_xnym_ng_fut_0-eth.csv\n",
      "20180504-TICK_xnym_ng_fut_0-eth.csv\n",
      "20180531-TICK_xnym_ng_fut_0-eth.csv\n",
      "20180503-TICK_xnym_ng_fut_0-eth.csv\n",
      "20180515-TICK_xnym_ng_fut_0-eth.csv\n",
      "20180502-TICK_xnym_ng_fut_0-eth.csv\n",
      "20180518-TICK_xnym_ng_fut_0-eth.csv\n",
      "20180514-TICK_xnym_ng_fut_0-eth.csv\n",
      "20180521-TICK_xnym_ng_fut_0-eth.csv\n",
      "20180530-TICK_xnym_ng_fut_0-eth.csv\n",
      "20180509-TICK_xnym_ng_fut_0-eth.csv\n"
     ]
    }
   ],
   "source": [
    "# Read all market data files and create one large pandas dataframe\n",
    "# path =r'C:\\DRO\\DCL_rawdata_files' # use your path\n",
    "allFiles = glob.glob(\"*.csv\")\n",
    "frame = pd.DataFrame()\n",
    "bigData = pd.DataFrame()\n",
    "for file_ in allFiles:\n",
    "    print(file_)\n",
    "    df = pd.read_csv(file_,names=colnames, header=None)\n",
    "    bigData = bigData.append(df)\n"
   ]
  },
  {
   "cell_type": "code",
   "execution_count": 7,
   "metadata": {},
   "outputs": [
    {
     "data": {
      "text/plain": [
       "(965254, 23)"
      ]
     },
     "execution_count": 7,
     "metadata": {},
     "output_type": "execute_result"
    }
   ],
   "source": [
    "bigData.shape"
   ]
  },
  {
   "cell_type": "code",
   "execution_count": 8,
   "metadata": {},
   "outputs": [
    {
     "data": {
      "text/plain": [
       "Index(['date', 'tTime', 'sequenceNbr', 'sessionInd', 'symbol', 'CPF', 'contractDelivery', 'volume', 'strikePrice', 'tPrice', 'AB', 'IND', 'MKQ', 'CO', 'VOE', 'PC', 'CAN', 'INS', 'FL', 'CAB', 'BKI', 'entryDate', 'exchCode'], dtype='object')"
      ]
     },
     "execution_count": 8,
     "metadata": {},
     "output_type": "execute_result"
    }
   ],
   "source": [
    "bigData.columns"
   ]
  },
  {
   "cell_type": "code",
   "execution_count": 9,
   "metadata": {},
   "outputs": [
    {
     "data": {
      "text/html": [
       "<div>\n",
       "<style scoped>\n",
       "    .dataframe tbody tr th:only-of-type {\n",
       "        vertical-align: middle;\n",
       "    }\n",
       "\n",
       "    .dataframe tbody tr th {\n",
       "        vertical-align: top;\n",
       "    }\n",
       "\n",
       "    .dataframe thead th {\n",
       "        text-align: right;\n",
       "    }\n",
       "</style>\n",
       "<table border=\"1\" class=\"dataframe\">\n",
       "  <thead>\n",
       "    <tr style=\"text-align: right;\">\n",
       "      <th></th>\n",
       "      <th>date</th>\n",
       "      <th>tTime</th>\n",
       "      <th>sequenceNbr</th>\n",
       "      <th>sessionInd</th>\n",
       "      <th>symbol</th>\n",
       "      <th>CPF</th>\n",
       "      <th>contractDelivery</th>\n",
       "      <th>volume</th>\n",
       "      <th>strikePrice</th>\n",
       "      <th>tPrice</th>\n",
       "      <th>AB</th>\n",
       "      <th>IND</th>\n",
       "      <th>MKQ</th>\n",
       "      <th>CO</th>\n",
       "      <th>VOE</th>\n",
       "      <th>PC</th>\n",
       "      <th>CAN</th>\n",
       "      <th>INS</th>\n",
       "      <th>FL</th>\n",
       "      <th>CAB</th>\n",
       "      <th>BKI</th>\n",
       "      <th>entryDate</th>\n",
       "      <th>exchCode</th>\n",
       "    </tr>\n",
       "  </thead>\n",
       "  <tbody>\n",
       "    <tr>\n",
       "      <th>0</th>\n",
       "      <td>20180516</td>\n",
       "      <td>17:00:00</td>\n",
       "      <td>1488771</td>\n",
       "      <td>E</td>\n",
       "      <td>NG</td>\n",
       "      <td>F</td>\n",
       "      <td>1806</td>\n",
       "      <td>16</td>\n",
       "      <td>0.0</td>\n",
       "      <td>2.827</td>\n",
       "      <td>NaN</td>\n",
       "      <td>NaN</td>\n",
       "      <td>NaN</td>\n",
       "      <td>NaN</td>\n",
       "      <td>NaN</td>\n",
       "      <td>NaN</td>\n",
       "      <td>NaN</td>\n",
       "      <td>NaN</td>\n",
       "      <td>NaN</td>\n",
       "      <td>NaN</td>\n",
       "      <td>NaN</td>\n",
       "      <td>20180515</td>\n",
       "      <td>XNYM</td>\n",
       "    </tr>\n",
       "    <tr>\n",
       "      <th>1</th>\n",
       "      <td>20180516</td>\n",
       "      <td>17:00:00</td>\n",
       "      <td>1488778</td>\n",
       "      <td>E</td>\n",
       "      <td>NG</td>\n",
       "      <td>F</td>\n",
       "      <td>1806</td>\n",
       "      <td>0</td>\n",
       "      <td>0.0</td>\n",
       "      <td>2.827</td>\n",
       "      <td>NaN</td>\n",
       "      <td>NaN</td>\n",
       "      <td>NaN</td>\n",
       "      <td>O</td>\n",
       "      <td>NaN</td>\n",
       "      <td>NaN</td>\n",
       "      <td>NaN</td>\n",
       "      <td>NaN</td>\n",
       "      <td>NaN</td>\n",
       "      <td>NaN</td>\n",
       "      <td>NaN</td>\n",
       "      <td>20180515</td>\n",
       "      <td>XNYM</td>\n",
       "    </tr>\n",
       "    <tr>\n",
       "      <th>2</th>\n",
       "      <td>20180516</td>\n",
       "      <td>17:00:00</td>\n",
       "      <td>1488783</td>\n",
       "      <td>E</td>\n",
       "      <td>NG</td>\n",
       "      <td>F</td>\n",
       "      <td>1806</td>\n",
       "      <td>2</td>\n",
       "      <td>0.0</td>\n",
       "      <td>2.829</td>\n",
       "      <td>NaN</td>\n",
       "      <td>NaN</td>\n",
       "      <td>NaN</td>\n",
       "      <td>NaN</td>\n",
       "      <td>NaN</td>\n",
       "      <td>NaN</td>\n",
       "      <td>NaN</td>\n",
       "      <td>NaN</td>\n",
       "      <td>NaN</td>\n",
       "      <td>NaN</td>\n",
       "      <td>NaN</td>\n",
       "      <td>20180515</td>\n",
       "      <td>XNYM</td>\n",
       "    </tr>\n",
       "    <tr>\n",
       "      <th>3</th>\n",
       "      <td>20180516</td>\n",
       "      <td>17:00:00</td>\n",
       "      <td>1488784</td>\n",
       "      <td>E</td>\n",
       "      <td>NG</td>\n",
       "      <td>F</td>\n",
       "      <td>1806</td>\n",
       "      <td>2</td>\n",
       "      <td>0.0</td>\n",
       "      <td>2.830</td>\n",
       "      <td>NaN</td>\n",
       "      <td>NaN</td>\n",
       "      <td>NaN</td>\n",
       "      <td>NaN</td>\n",
       "      <td>NaN</td>\n",
       "      <td>NaN</td>\n",
       "      <td>NaN</td>\n",
       "      <td>NaN</td>\n",
       "      <td>NaN</td>\n",
       "      <td>NaN</td>\n",
       "      <td>NaN</td>\n",
       "      <td>20180515</td>\n",
       "      <td>XNYM</td>\n",
       "    </tr>\n",
       "    <tr>\n",
       "      <th>4</th>\n",
       "      <td>20180516</td>\n",
       "      <td>17:00:00</td>\n",
       "      <td>1488785</td>\n",
       "      <td>E</td>\n",
       "      <td>NG</td>\n",
       "      <td>F</td>\n",
       "      <td>1806</td>\n",
       "      <td>8</td>\n",
       "      <td>0.0</td>\n",
       "      <td>2.831</td>\n",
       "      <td>NaN</td>\n",
       "      <td>NaN</td>\n",
       "      <td>NaN</td>\n",
       "      <td>NaN</td>\n",
       "      <td>NaN</td>\n",
       "      <td>NaN</td>\n",
       "      <td>NaN</td>\n",
       "      <td>NaN</td>\n",
       "      <td>NaN</td>\n",
       "      <td>NaN</td>\n",
       "      <td>NaN</td>\n",
       "      <td>20180515</td>\n",
       "      <td>XNYM</td>\n",
       "    </tr>\n",
       "  </tbody>\n",
       "</table>\n",
       "</div>"
      ],
      "text/plain": [
       "       date     tTime  sequenceNbr sessionInd symbol CPF  contractDelivery  volume  strikePrice  tPrice  AB  IND  MKQ   CO  VOE  PC  CAN  INS  FL  CAB  BKI  entryDate exchCode\n",
       "0  20180516  17:00:00      1488771          E     NG   F              1806      16          0.0   2.827 NaN  NaN  NaN  NaN  NaN NaN  NaN  NaN NaN  NaN  NaN   20180515     XNYM\n",
       "1  20180516  17:00:00      1488778          E     NG   F              1806       0          0.0   2.827 NaN  NaN  NaN    O  NaN NaN  NaN  NaN NaN  NaN  NaN   20180515     XNYM\n",
       "2  20180516  17:00:00      1488783          E     NG   F              1806       2          0.0   2.829 NaN  NaN  NaN  NaN  NaN NaN  NaN  NaN NaN  NaN  NaN   20180515     XNYM\n",
       "3  20180516  17:00:00      1488784          E     NG   F              1806       2          0.0   2.830 NaN  NaN  NaN  NaN  NaN NaN  NaN  NaN NaN  NaN  NaN   20180515     XNYM\n",
       "4  20180516  17:00:00      1488785          E     NG   F              1806       8          0.0   2.831 NaN  NaN  NaN  NaN  NaN NaN  NaN  NaN NaN  NaN  NaN   20180515     XNYM"
      ]
     },
     "execution_count": 9,
     "metadata": {},
     "output_type": "execute_result"
    }
   ],
   "source": [
    "bigData.head()"
   ]
  },
  {
   "cell_type": "code",
   "execution_count": null,
   "metadata": {},
   "outputs": [],
   "source": []
  }
 ],
 "metadata": {
  "kernelspec": {
   "display_name": "Python 3",
   "language": "python",
   "name": "python3"
  },
  "language_info": {
   "codemirror_mode": {
    "name": "ipython",
    "version": 3
   },
   "file_extension": ".py",
   "mimetype": "text/x-python",
   "name": "python",
   "nbconvert_exporter": "python",
   "pygments_lexer": "ipython3",
   "version": "3.6.4"
  }
 },
 "nbformat": 4,
 "nbformat_minor": 2
}
